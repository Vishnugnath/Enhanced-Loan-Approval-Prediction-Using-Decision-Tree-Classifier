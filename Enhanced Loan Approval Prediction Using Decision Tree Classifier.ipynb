{
 "cells": [
  {
   "cell_type": "markdown",
   "id": "9dd5a4ff-3bce-4dfc-951b-a640caa383b1",
   "metadata": {},
   "source": [
    "# Enhanced Loan Approval Prediction Using Decision Tree Classifier"
   ]
  },
  {
   "cell_type": "code",
   "execution_count": null,
   "id": "a9e48b15-61a3-4c79-9c96-0c81074665be",
   "metadata": {},
   "outputs": [],
   "source": []
  },
  {
   "cell_type": "code",
   "execution_count": 8,
   "id": "0c38280b-3a9f-458e-bbcd-16c886efe220",
   "metadata": {},
   "outputs": [],
   "source": [
    "import pandas as pd  # Importing the pandas library for data manipulation\n",
    "from sklearn.model_selection import train_test_split, GridSearchCV, cross_val_score  # Importing functions for splitting and cross-validation\n",
    "from sklearn.tree import DecisionTreeClassifier  # Importing the DecisionTreeClassifier for creating the model\n",
    "from sklearn.metrics import classification_report, confusion_matrix  # Importing metrics for model evaluation\n",
    "import matplotlib.pyplot as plt  # Importing matplotlib for plotting\n",
    "import seaborn as sns  # Importing seaborn for enhanced visualization\n"
   ]
  },
  {
   "cell_type": "code",
   "execution_count": null,
   "id": "6dd61b74-fdd8-4c69-a44b-fac2f1b5198a",
   "metadata": {},
   "outputs": [],
   "source": []
  },
  {
   "cell_type": "code",
   "execution_count": 10,
   "id": "6a14ae72-6ba0-437e-9fca-908db736da1f",
   "metadata": {},
   "outputs": [
    {
     "name": "stdout",
     "output_type": "stream",
     "text": [
      "   loan_id   no_of_dependents      education  self_employed   income_annum  \\\n",
      "0        1                  2       Graduate             No        9600000   \n",
      "1        2                  0   Not Graduate            Yes        4100000   \n",
      "2        3                  3       Graduate             No        9100000   \n",
      "3        4                  3       Graduate             No        8200000   \n",
      "4        5                  5   Not Graduate            Yes        9800000   \n",
      "\n",
      "    loan_amount   loan_term   cibil_score   residential_assets_value  \\\n",
      "0      29900000          12           778                    2400000   \n",
      "1      12200000           8           417                    2700000   \n",
      "2      29700000          20           506                    7100000   \n",
      "3      30700000           8           467                   18200000   \n",
      "4      24200000          20           382                   12400000   \n",
      "\n",
      "    commercial_assets_value   luxury_assets_value   bank_asset_value  \\\n",
      "0                  17600000              22700000            8000000   \n",
      "1                   2200000               8800000            3300000   \n",
      "2                   4500000              33300000           12800000   \n",
      "3                   3300000              23300000            7900000   \n",
      "4                   8200000              29400000            5000000   \n",
      "\n",
      "   loan_status  \n",
      "0     Approved  \n",
      "1     Rejected  \n",
      "2     Rejected  \n",
      "3     Rejected  \n",
      "4     Rejected  \n",
      "Index(['loan_id', ' no_of_dependents', ' education', ' self_employed',\n",
      "       ' income_annum', ' loan_amount', ' loan_term', ' cibil_score',\n",
      "       ' residential_assets_value', ' commercial_assets_value',\n",
      "       ' luxury_assets_value', ' bank_asset_value', ' loan_status'],\n",
      "      dtype='object')\n"
     ]
    }
   ],
   "source": [
    "# Load dataset\n",
    "df = pd.read_csv(r'C:\\Users\\Vishnu\\Downloads\\loan_approval_dataset.csv')  # Load the CSV file into a DataFrame\n",
    "\n",
    "# Display the first few rows and column names\n",
    "print(df.head())  # Display the first five rows of the DataFrame to understand its structure\n",
    "print(df.columns)  # Print the names of the columns to check the features available"
   ]
  },
  {
   "cell_type": "code",
   "execution_count": null,
   "id": "6a7ddb74-595c-43fe-809d-93e574838270",
   "metadata": {},
   "outputs": [],
   "source": []
  },
  {
   "cell_type": "code",
   "execution_count": 12,
   "id": "ca64c6eb-01ed-463d-8f2b-9d7dbd556f92",
   "metadata": {},
   "outputs": [
    {
     "name": "stdout",
     "output_type": "stream",
     "text": [
      "loan_id                     0\n",
      "no_of_dependents            0\n",
      "education                   0\n",
      "self_employed               0\n",
      "income_annum                0\n",
      "loan_amount                 0\n",
      "loan_term                   0\n",
      "cibil_score                 0\n",
      "residential_assets_value    0\n",
      "commercial_assets_value     0\n",
      "luxury_assets_value         0\n",
      "bank_asset_value            0\n",
      "loan_status                 0\n",
      "dtype: int64\n"
     ]
    }
   ],
   "source": [
    "# Strip whitespace from headers\n",
    "df.columns = df.columns.str.strip()  # Remove any leading or trailing whitespace from the column names\n",
    "\n",
    "# Check for missing values and fill or drop them\n",
    "print(df.isnull().sum())  # Print the number of missing values in each column\n",
    "# Example: Filling missing values with the mean (you can choose a strategy that fits your dataset)\n",
    "# df['some_column'].fillna(df['some_column'].mean(), inplace=True)  # Uncomment and modify as needed"
   ]
  },
  {
   "cell_type": "code",
   "execution_count": null,
   "id": "fc084c2e-b01d-4b02-b0d6-3e4f02c006b9",
   "metadata": {},
   "outputs": [],
   "source": []
  },
  {
   "cell_type": "code",
   "execution_count": 14,
   "id": "2db6d082-0de7-4b42-bb0a-792b8a0e3176",
   "metadata": {},
   "outputs": [],
   "source": [
    "# Define features and target variable\n",
    "X = df.drop(columns=['loan_id', 'loan_status'])  # Features: Drop 'loan_id' and 'loan_status' columns\n",
    "y = df['loan_status']  # Target variable: 'loan_status' indicates if the loan was approved or rejected"
   ]
  },
  {
   "cell_type": "code",
   "execution_count": null,
   "id": "0940cb66-a0e5-4ea9-bf35-f90de8068da8",
   "metadata": {},
   "outputs": [],
   "source": []
  },
  {
   "cell_type": "code",
   "execution_count": 16,
   "id": "f5f3b93e-f565-49ab-9989-25819dc0bf44",
   "metadata": {},
   "outputs": [],
   "source": [
    "\n",
    "# Convert categorical variables to numerical\n",
    "X = pd.get_dummies(X, drop_first=True)  # Convert categorical variables into dummy/indicator variables, dropping the first category to avoid dummy variable trap\n",
    "\n",
    "# Split the data into training and testing sets\n",
    "X_train, X_test, y_train, y_test = train_test_split(X, y, test_size=0.2, random_state=42)  # Split data into training (80%) and testing (20%) sets"
   ]
  },
  {
   "cell_type": "code",
   "execution_count": null,
   "id": "9382aa27-4134-4b84-8946-42a398a39076",
   "metadata": {},
   "outputs": [],
   "source": []
  },
  {
   "cell_type": "code",
   "execution_count": 18,
   "id": "6d59eaaa-277f-4983-9394-882d437b4e52",
   "metadata": {},
   "outputs": [],
   "source": [
    "# Create a Decision Tree Classifier with hyperparameter tuning using GridSearchCV\n",
    "param_grid = {\n",
    "    'max_depth': [None, 10, 20, 30],  # Different values for maximum depth\n",
    "    'min_samples_split': [2, 5, 10]  # Different values for minimum samples required to split an internal node\n",
    "}\n",
    "grid_search = GridSearchCV(DecisionTreeClassifier(random_state=42), param_grid, cv=5)  # Perform grid search with cross-validation\n",
    "grid_search.fit(X_train, y_train)  # Fit the model to the training data\n",
    "best_classifier = grid_search.best_estimator_  # Get the best classifier from the grid search"
   ]
  },
  {
   "cell_type": "code",
   "execution_count": null,
   "id": "804fdd7e-7601-4d63-ae9b-d06bc1a92294",
   "metadata": {},
   "outputs": [],
   "source": []
  },
  {
   "cell_type": "code",
   "execution_count": 20,
   "id": "77927a67-0ac5-4846-abb8-35c67244265e",
   "metadata": {},
   "outputs": [
    {
     "name": "stdout",
     "output_type": "stream",
     "text": [
      "[[528   8]\n",
      " [ 12 306]]\n",
      "              precision    recall  f1-score   support\n",
      "\n",
      "    Approved       0.98      0.99      0.98       536\n",
      "    Rejected       0.97      0.96      0.97       318\n",
      "\n",
      "    accuracy                           0.98       854\n",
      "   macro avg       0.98      0.97      0.97       854\n",
      "weighted avg       0.98      0.98      0.98       854\n",
      "\n"
     ]
    }
   ],
   "source": [
    "# Make predictions on the test set using the best classifier\n",
    "y_pred = best_classifier.predict(X_test)  # Predict loan approval status on the test data\n",
    "\n",
    "# Evaluate the model\n",
    "print(confusion_matrix(y_test, y_pred))  # Print the confusion matrix to understand the model's performance\n",
    "print(classification_report(y_test, y_pred))  # Print a classification report with precision, recall, and F1-score metrics"
   ]
  },
  {
   "cell_type": "code",
   "execution_count": null,
   "id": "12c64abd-3605-450d-bc61-231e9738911a",
   "metadata": {},
   "outputs": [],
   "source": []
  },
  {
   "cell_type": "code",
   "execution_count": 22,
   "id": "0c3264db-0a45-4eb8-af4b-f0d706c79942",
   "metadata": {},
   "outputs": [
    {
     "name": "stdout",
     "output_type": "stream",
     "text": [
      "Cross-validation scores: [0.97423888 0.98009368 0.98126464 0.97306792 0.97772567]\n",
      "Mean cross-validation score: 0.9772781558955718\n"
     ]
    }
   ],
   "source": [
    "# Cross-validation score\n",
    "cv_scores = cross_val_score(best_classifier, X, y, cv=5)  # Perform cross-validation\n",
    "print(f'Cross-validation scores: {cv_scores}')  # Print cross-validation scores\n",
    "print(f'Mean cross-validation score: {cv_scores.mean()}')  # Print mean cross-validation score"
   ]
  },
  {
   "cell_type": "code",
   "execution_count": null,
   "id": "0a9ee537-26fa-4cb4-8db9-f98837d16ad4",
   "metadata": {},
   "outputs": [],
   "source": []
  },
  {
   "cell_type": "code",
   "execution_count": 24,
   "id": "d0fbea96-6151-453a-869c-c091b3dede01",
   "metadata": {},
   "outputs": [],
   "source": [
    "# Feature Importance\n",
    "feature_importances = best_classifier.feature_importances_  # Get feature importances\n",
    "features = X.columns  # Get feature names"
   ]
  },
  {
   "cell_type": "code",
   "execution_count": null,
   "id": "9cfddb41-5422-4812-9d77-f523555e9b00",
   "metadata": {},
   "outputs": [],
   "source": []
  },
  {
   "cell_type": "code",
   "execution_count": 26,
   "id": "9dcb4d62-454a-4073-b943-0aa173354bfb",
   "metadata": {},
   "outputs": [],
   "source": [
    "# Create a DataFrame for visualization\n",
    "importance_df = pd.DataFrame({'Feature': features, 'Importance': feature_importances})\n",
    "importance_df = importance_df.sort_values(by='Importance', ascending=False)  # Sort the DataFrame by importance"
   ]
  },
  {
   "cell_type": "code",
   "execution_count": null,
   "id": "cc6fa453-18b3-4d6f-b415-7c38c3851a83",
   "metadata": {},
   "outputs": [],
   "source": []
  },
  {
   "cell_type": "code",
   "execution_count": 28,
   "id": "697ac0de-a630-4194-a844-3fde4d686756",
   "metadata": {},
   "outputs": [
    {
     "data": {
      "image/png": "[encoded data removed]",
      "text/plain": [
       "<Figure size 1000x600 with 1 Axes>"
      ]
     },
     "metadata": {},
     "output_type": "display_data"
    }
   ],
   "source": [
    "# Plotting feature importances\n",
    "plt.figure(figsize=(10, 6))  # Set the size of the plot\n",
    "sns.barplot(data=importance_df, x='Importance', y='Feature', palette='viridis')  # Create a horizontal bar plot\n",
    "plt.title('Feature Importance for Loan Approval Prediction')  # Title for the plot\n",
    "plt.xlabel('Importance')  # X-axis label\n",
    "plt.ylabel('Feature')  # Y-axis label\n",
    "plt.show()  # Show the plot"
   ]
  },
  {
   "cell_type": "code",
   "execution_count": 30,
   "id": "be2b7193-3bdb-4097-8b64-0671ceb6901c",
   "metadata": {},
   "outputs": [
    {
     "name": "stdout",
     "output_type": "stream",
     "text": [
      "Prediction for the new data:  Approved\n"
     ]
    }
   ],
   "source": [
    "# ================== Prediction on New Data ==================\n",
    "\n",
    "# Example: Creating a new DataFrame for prediction (modify with actual input data)\n",
    "new_data = pd.DataFrame({\n",
    "    'no_of_dependents': [2],  # Example value\n",
    "    'education': ['Graduate'],  # Example value\n",
    "    'self_employed': ['No'],  # Example value\n",
    "    'income_annum': [9600000],  # Example value\n",
    "    'loan_amount': [29900000],  # Example value\n",
    "    'loan_term': [12],  # Example value\n",
    "    'cibil_score': [778],  # Example value\n",
    "    'residential_assets_value': [2400000],  # Example value\n",
    "    'commercial_assets_value': [17600000],  # Example value\n",
    "    'luxury_assets_value': [22700000],  # Example value\n",
    "    'bank_asset_value': [8000000]  # Example value\n",
    "})\n",
    "\n",
    "# Preprocess the new data the same way as the training data\n",
    "new_data.columns = new_data.columns.str.strip()  # Strip whitespace from headers\n",
    "new_data_encoded = pd.get_dummies(new_data, drop_first=True)  # Convert categorical variables to numerical\n",
    "new_data_encoded = new_data_encoded.reindex(columns=X.columns, fill_value=0)  # Align new data with training data columns\n",
    "\n",
    "# Make predictions on the new data\n",
    "prediction = best_classifier.predict(new_data_encoded)  # Make prediction\n",
    "print(f'Prediction for the new data: {prediction[0]}')  # Print the prediction result"
   ]
  }
 ],
 "metadata": {
  "kernelspec": {
   "display_name": "Python 3 (ipykernel)",
   "language": "python",
   "name": "python3"
  },
  "language_info": {
   "codemirror_mode": {
    "name": "ipython",
    "version": 3
   },
   "file_extension": ".py",
   "mimetype": "text/x-python",
   "name": "python",
   "nbconvert_exporter": "python",
   "pygments_lexer": "ipython3",
   "version": "3.11.7"
  }
 },
 "nbformat": 4,
 "nbformat_minor": 5
}
